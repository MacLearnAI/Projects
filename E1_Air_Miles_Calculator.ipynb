{
 "cells": [
  {
   "cell_type": "code",
   "execution_count": 1,
   "metadata": {},
   "outputs": [],
   "source": [
    "## Calculate Air Miles between two places.\n",
    "## Auther: Subrat Kumar Sahoo\n",
    "## mail: maclearnai@gmail.com"
   ]
  },
  {
   "cell_type": "markdown",
   "metadata": {},
   "source": [
    "### Import Required Libraries"
   ]
  },
  {
   "cell_type": "code",
   "execution_count": 2,
   "metadata": {},
   "outputs": [],
   "source": [
    "import requests\n",
    "import pandas as pd\n",
    "import numpy as np\n",
    "from bs4 import BeautifulSoup"
   ]
  },
  {
   "cell_type": "code",
   "execution_count": 4,
   "metadata": {},
   "outputs": [
    {
     "data": {
      "text/html": [
       "<div>\n",
       "<style scoped>\n",
       "    .dataframe tbody tr th:only-of-type {\n",
       "        vertical-align: middle;\n",
       "    }\n",
       "\n",
       "    .dataframe tbody tr th {\n",
       "        vertical-align: top;\n",
       "    }\n",
       "\n",
       "    .dataframe thead th {\n",
       "        text-align: right;\n",
       "    }\n",
       "</style>\n",
       "<table border=\"1\" class=\"dataframe\">\n",
       "  <thead>\n",
       "    <tr style=\"text-align: right;\">\n",
       "      <th></th>\n",
       "      <th>from_city</th>\n",
       "      <th>to_city</th>\n",
       "    </tr>\n",
       "  </thead>\n",
       "  <tbody>\n",
       "    <tr>\n",
       "      <th>0</th>\n",
       "      <td>Lisbon</td>\n",
       "      <td>Vilnius</td>\n",
       "    </tr>\n",
       "    <tr>\n",
       "      <th>1</th>\n",
       "      <td>Vilnius</td>\n",
       "      <td>Bishkek</td>\n",
       "    </tr>\n",
       "    <tr>\n",
       "      <th>2</th>\n",
       "      <td>Bishkek</td>\n",
       "      <td>Almaty</td>\n",
       "    </tr>\n",
       "  </tbody>\n",
       "</table>\n",
       "</div>"
      ],
      "text/plain": [
       "  from_city  to_city\n",
       "0    Lisbon  Vilnius\n",
       "1   Vilnius  Bishkek\n",
       "2   Bishkek   Almaty"
      ]
     },
     "execution_count": 4,
     "metadata": {},
     "output_type": "execute_result"
    }
   ],
   "source": [
    "from_city = [\"Lisbon\",\"Vilnius\",\"Bishkek\"]\n",
    "to_city   = [\"Vilnius\",\"Bishkek\",\"Almaty\"]\n",
    "mod_data = pd.DataFrame({'from_city':from_city,\n",
    "                         'to_city':to_city})\n",
    "mod_data"
   ]
  },
  {
   "cell_type": "code",
   "execution_count": 8,
   "metadata": {},
   "outputs": [
    {
     "name": "stdout",
     "output_type": "stream",
     "text": [
      "https://www.distance.to/Lisbon/Vilnius\n",
      "1,939.87\n",
      "https://www.distance.to/Vilnius/Bishkek\n",
      "2,333.30\n",
      "https://www.distance.to/Bishkek/Almaty\n",
      "120.36\n",
      "Air Miles:  ['1,939.87', '2,333.30', '120.36']\n"
     ]
    }
   ],
   "source": [
    "air_miles = []\n",
    "for i in range(mod_data.shape[0]):\n",
    "    from_city = mod_data['from_city'][i]\n",
    "    to_city = mod_data['to_city'][i]\n",
    "    url = \"https://www.distance.to/\"+str(from_city).strip()+\"/\"+str(to_city).strip()\n",
    "    print(url)\n",
    "    response = requests.get(url)\n",
    "    page = response.content\n",
    "    soup = BeautifulSoup(page,'html.parser')\n",
    "    miles = soup.find(\"span\", {\"class\": \"value mi\"})\n",
    "    print(miles.get_text())\n",
    "    air_miles.append(miles.get_text()) \n",
    "print(\"Air Miles: \",air_miles)"
   ]
  },
  {
   "cell_type": "code",
   "execution_count": null,
   "metadata": {},
   "outputs": [],
   "source": []
  }
 ],
 "metadata": {
  "kernelspec": {
   "display_name": "Python 3",
   "language": "python",
   "name": "python3"
  },
  "language_info": {
   "codemirror_mode": {
    "name": "ipython",
    "version": 3
   },
   "file_extension": ".py",
   "mimetype": "text/x-python",
   "name": "python",
   "nbconvert_exporter": "python",
   "pygments_lexer": "ipython3",
   "version": "3.7.1"
  }
 },
 "nbformat": 4,
 "nbformat_minor": 2
}
