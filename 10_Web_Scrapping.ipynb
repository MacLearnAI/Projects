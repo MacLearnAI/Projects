{
 "cells": [
  {
   "cell_type": "code",
   "execution_count": 2,
   "metadata": {},
   "outputs": [],
   "source": [
    "import requests\n",
    "from bs4 import BeautifulSoup"
   ]
  },
  {
   "cell_type": "markdown",
   "metadata": {},
   "source": [
    "### BeautifulSoap"
   ]
  },
  {
   "cell_type": "code",
   "execution_count": 24,
   "metadata": {},
   "outputs": [],
   "source": [
    "form_data = {\n",
    "    'distancefrom': 'Bhubaneswar',\n",
    "    'distanceto': 'Bangalore'\n",
    "}"
   ]
  },
  {
   "cell_type": "code",
   "execution_count": 35,
   "metadata": {},
   "outputs": [
    {
     "name": "stdout",
     "output_type": "stream",
     "text": [
      "0 mi\n"
     ]
    }
   ],
   "source": [
    "with requests.Session() as s:\n",
    "    url = \"https://www.distancecalculator.net/\"\n",
    "    response1 = requests.get(url)\n",
    "    page1 = response1.content\n",
    "    soup1 = BeautifulSoup(page1,'html.parser')\n",
    "    form_data['distoken'] = soup1.find('input', attrs={'name': 'distoken'})['value']\n",
    "    response2 = s.post(url, data=form_data)\n",
    "    page2 = response2.content\n",
    "    soup2 = BeautifulSoup(page2,'html.parser')\n",
    "    km = soup2.find('span', id='totaldistancemiles')\n",
    "    print(km.get_text())"
   ]
  },
  {
   "cell_type": "code",
   "execution_count": 26,
   "metadata": {},
   "outputs": [],
   "source": [
    "## EXAMPLE - 1"
   ]
  },
  {
   "cell_type": "code",
   "execution_count": 27,
   "metadata": {},
   "outputs": [
    {
     "name": "stdout",
     "output_type": "stream",
     "text": [
      "Bhubaneswar\n",
      "Bangalore\n",
      "73359ae1fd76f2370eab9062b31e12d77cc7121fa7886d1d699f97f736f97835\n"
     ]
    }
   ],
   "source": [
    "    url = \"https://www.distancecalculator.net/\"\n",
    "    response1 = requests.get(url)\n",
    "    page1 = response1.content\n",
    "    soup1 = BeautifulSoup(page1,'html.parser')\n",
    "    form_data['distoken'] = soup1.find('input', attrs={'name': 'distoken'})['value']\n",
    "    print(form_data['distancefrom'])\n",
    "    print(form_data['distanceto'])\n",
    "    print(form_data['distoken'])\n",
    "    response2 = s.post(url, data=form_data)\n",
    "    page2 = response2.content\n",
    "    #page2"
   ]
  },
  {
   "cell_type": "code",
   "execution_count": 28,
   "metadata": {},
   "outputs": [],
   "source": [
    "## EXAMPLE - 2"
   ]
  },
  {
   "cell_type": "code",
   "execution_count": 68,
   "metadata": {},
   "outputs": [
    {
     "name": "stdout",
     "output_type": "stream",
     "text": [
      "7,771.92\n"
     ]
    }
   ],
   "source": [
    "    import requests\n",
    "    from bs4 import BeautifulSoup\n",
    "    url = \"https://www.distance.to/Newyork/India\"\n",
    "    response1 = requests.get(url)\n",
    "    page1 = response1.content\n",
    "    soup1 = BeautifulSoup(page1,'html.parser')\n",
    "    km = soup1.find(\"span\", {\"class\": \"value mi\"})\n",
    "    print(km.get_text())"
   ]
  },
  {
   "cell_type": "code",
   "execution_count": null,
   "metadata": {},
   "outputs": [],
   "source": []
  },
  {
   "cell_type": "code",
   "execution_count": null,
   "metadata": {},
   "outputs": [],
   "source": []
  },
  {
   "cell_type": "code",
   "execution_count": null,
   "metadata": {},
   "outputs": [],
   "source": []
  },
  {
   "cell_type": "code",
   "execution_count": null,
   "metadata": {},
   "outputs": [],
   "source": []
  },
  {
   "cell_type": "code",
   "execution_count": null,
   "metadata": {},
   "outputs": [],
   "source": []
  },
  {
   "cell_type": "markdown",
   "metadata": {},
   "source": [
    "# SELENIUM"
   ]
  },
  {
   "cell_type": "code",
   "execution_count": 21,
   "metadata": {},
   "outputs": [],
   "source": [
    "from selenium import webdriver\n",
    "import time\n",
    "import os"
   ]
  },
  {
   "cell_type": "code",
   "execution_count": 23,
   "metadata": {},
   "outputs": [],
   "source": [
    "#chromedriver = \"D:/Projects/Softwares/chromedriver\"\n",
    "#os.environ[\"webdriver.chrome.driver\"] = chromedriver\n",
    "#driver = webdriver.Chrome(chromedriver)"
   ]
  },
  {
   "cell_type": "code",
   "execution_count": null,
   "metadata": {},
   "outputs": [],
   "source": []
  }
 ],
 "metadata": {
  "kernelspec": {
   "display_name": "Python 3",
   "language": "python",
   "name": "python3"
  },
  "language_info": {
   "codemirror_mode": {
    "name": "ipython",
    "version": 3
   },
   "file_extension": ".py",
   "mimetype": "text/x-python",
   "name": "python",
   "nbconvert_exporter": "python",
   "pygments_lexer": "ipython3",
   "version": "3.7.1"
  }
 },
 "nbformat": 4,
 "nbformat_minor": 2
}
