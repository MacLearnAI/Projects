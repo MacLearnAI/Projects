{
 "cells": [
  {
   "cell_type": "code",
   "execution_count": 89,
   "metadata": {},
   "outputs": [],
   "source": [
    "#Metrix Similarity Calculation\n",
    "#Auther: Subrat Kumar Sahoo"
   ]
  },
  {
   "cell_type": "code",
   "execution_count": 30,
   "metadata": {},
   "outputs": [],
   "source": [
    "import pandas as pd\n",
    "import numpy as np\n",
    "import scipy as sp\n",
    "import itertools\n",
    "import array\n",
    "from scipy import spatial"
   ]
  },
  {
   "cell_type": "code",
   "execution_count": 95,
   "metadata": {},
   "outputs": [],
   "source": [
    "age    = [20,20,35,45,55,60]\n",
    "height = [5.5,5.6,5.8,5.7,5.9,6.0]\n",
    "weight = [50,50,60,65,74,80]"
   ]
  },
  {
   "cell_type": "code",
   "execution_count": 96,
   "metadata": {},
   "outputs": [
    {
     "data": {
      "text/html": [
       "<div>\n",
       "<style scoped>\n",
       "    .dataframe tbody tr th:only-of-type {\n",
       "        vertical-align: middle;\n",
       "    }\n",
       "\n",
       "    .dataframe tbody tr th {\n",
       "        vertical-align: top;\n",
       "    }\n",
       "\n",
       "    .dataframe thead th {\n",
       "        text-align: right;\n",
       "    }\n",
       "</style>\n",
       "<table border=\"1\" class=\"dataframe\">\n",
       "  <thead>\n",
       "    <tr style=\"text-align: right;\">\n",
       "      <th></th>\n",
       "      <th>age</th>\n",
       "      <th>height</th>\n",
       "      <th>weight</th>\n",
       "    </tr>\n",
       "  </thead>\n",
       "  <tbody>\n",
       "    <tr>\n",
       "      <th>0</th>\n",
       "      <td>20</td>\n",
       "      <td>5.5</td>\n",
       "      <td>50</td>\n",
       "    </tr>\n",
       "    <tr>\n",
       "      <th>1</th>\n",
       "      <td>20</td>\n",
       "      <td>5.6</td>\n",
       "      <td>50</td>\n",
       "    </tr>\n",
       "    <tr>\n",
       "      <th>2</th>\n",
       "      <td>35</td>\n",
       "      <td>5.8</td>\n",
       "      <td>60</td>\n",
       "    </tr>\n",
       "    <tr>\n",
       "      <th>3</th>\n",
       "      <td>45</td>\n",
       "      <td>5.7</td>\n",
       "      <td>65</td>\n",
       "    </tr>\n",
       "    <tr>\n",
       "      <th>4</th>\n",
       "      <td>55</td>\n",
       "      <td>5.9</td>\n",
       "      <td>74</td>\n",
       "    </tr>\n",
       "    <tr>\n",
       "      <th>5</th>\n",
       "      <td>60</td>\n",
       "      <td>6.0</td>\n",
       "      <td>80</td>\n",
       "    </tr>\n",
       "  </tbody>\n",
       "</table>\n",
       "</div>"
      ],
      "text/plain": [
       "   age  height  weight\n",
       "0   20     5.5      50\n",
       "1   20     5.6      50\n",
       "2   35     5.8      60\n",
       "3   45     5.7      65\n",
       "4   55     5.9      74\n",
       "5   60     6.0      80"
      ]
     },
     "execution_count": 96,
     "metadata": {},
     "output_type": "execute_result"
    }
   ],
   "source": [
    "df = pd.DataFrame({'age':age,\n",
    "                  'height':height,\n",
    "                  'weight':weight})\n",
    "df"
   ]
  },
  {
   "cell_type": "markdown",
   "metadata": {},
   "source": [
    "### Euclidean Similarity"
   ]
  },
  {
   "cell_type": "code",
   "execution_count": 97,
   "metadata": {},
   "outputs": [],
   "source": [
    "Y = spatial.distance.pdist(df, 'euclidean')"
   ]
  },
  {
   "cell_type": "code",
   "execution_count": 98,
   "metadata": {},
   "outputs": [
    {
     "data": {
      "text/plain": [
       "array([ 0.1       , 18.03025236, 29.15544546, 42.4400754 , 50.00249994,\n",
       "       18.02886574, 29.15493097, 42.4392507 , 50.00159997, 11.18078709,\n",
       "       24.41331604, 32.01624588, 13.45511055, 21.21532465,  7.81088983])"
      ]
     },
     "execution_count": 98,
     "metadata": {},
     "output_type": "execute_result"
    }
   ],
   "source": [
    "Y"
   ]
  },
  {
   "cell_type": "code",
   "execution_count": 99,
   "metadata": {},
   "outputs": [
    {
     "data": {
      "text/plain": [
       "array([[ 0.        ,  0.1       , 18.03025236, 29.15544546, 42.4400754 ,\n",
       "        50.00249994],\n",
       "       [ 0.1       ,  0.        , 18.02886574, 29.15493097, 42.4392507 ,\n",
       "        50.00159997],\n",
       "       [18.03025236, 18.02886574,  0.        , 11.18078709, 24.41331604,\n",
       "        32.01624588],\n",
       "       [29.15544546, 29.15493097, 11.18078709,  0.        , 13.45511055,\n",
       "        21.21532465],\n",
       "       [42.4400754 , 42.4392507 , 24.41331604, 13.45511055,  0.        ,\n",
       "         7.81088983],\n",
       "       [50.00249994, 50.00159997, 32.01624588, 21.21532465,  7.81088983,\n",
       "         0.        ]])"
      ]
     },
     "execution_count": 99,
     "metadata": {},
     "output_type": "execute_result"
    }
   ],
   "source": [
    "spatial.distance.squareform(Y)"
   ]
  },
  {
   "cell_type": "code",
   "execution_count": null,
   "metadata": {},
   "outputs": [],
   "source": []
  },
  {
   "cell_type": "markdown",
   "metadata": {},
   "source": [
    "### braycurtis Similarity"
   ]
  },
  {
   "cell_type": "code",
   "execution_count": 77,
   "metadata": {},
   "outputs": [],
   "source": [
    "Y = spatial.distance.pdist(df, 'braycurtis')"
   ]
  },
  {
   "cell_type": "code",
   "execution_count": 78,
   "metadata": {},
   "outputs": [
    {
     "data": {
      "text/plain": [
       "array([0.00066181, 0.14350539, 0.21025105, 0.28231939, 0.31828442,\n",
       "       0.14285714, 0.2096184 , 0.28171021, 0.31768953, 0.06974596,\n",
       "       0.14467543, 0.18314425, 0.07661612, 0.11578143, 0.03951584])"
      ]
     },
     "execution_count": 78,
     "metadata": {},
     "output_type": "execute_result"
    }
   ],
   "source": [
    "Y"
   ]
  },
  {
   "cell_type": "code",
   "execution_count": 79,
   "metadata": {},
   "outputs": [
    {
     "data": {
      "text/plain": [
       "array([[0.        , 0.00066181, 0.14350539, 0.21025105, 0.28231939,\n",
       "        0.31828442],\n",
       "       [0.00066181, 0.        , 0.14285714, 0.2096184 , 0.28171021,\n",
       "        0.31768953],\n",
       "       [0.14350539, 0.14285714, 0.        , 0.06974596, 0.14467543,\n",
       "        0.18314425],\n",
       "       [0.21025105, 0.2096184 , 0.06974596, 0.        , 0.07661612,\n",
       "        0.11578143],\n",
       "       [0.28231939, 0.28171021, 0.14467543, 0.07661612, 0.        ,\n",
       "        0.03951584],\n",
       "       [0.31828442, 0.31768953, 0.18314425, 0.11578143, 0.03951584,\n",
       "        0.        ]])"
      ]
     },
     "execution_count": 79,
     "metadata": {},
     "output_type": "execute_result"
    }
   ],
   "source": [
    "spatial.distance.squareform(Y)"
   ]
  },
  {
   "cell_type": "code",
   "execution_count": null,
   "metadata": {},
   "outputs": [],
   "source": []
  },
  {
   "cell_type": "markdown",
   "metadata": {},
   "source": [
    "## canberra Similarity"
   ]
  },
  {
   "cell_type": "code",
   "execution_count": 80,
   "metadata": {},
   "outputs": [],
   "source": [
    "Y = spatial.distance.pdist(df, 'canberra')"
   ]
  },
  {
   "cell_type": "code",
   "execution_count": 81,
   "metadata": {},
   "outputs": [
    {
     "data": {
      "text/plain": [
       "array([0.00900901, 0.39018504, 0.53290731, 0.69530277, 0.77424749,\n",
       "       0.38118022, 0.52389972, 0.68630201, 0.76525199, 0.17369565,\n",
       "       0.33524684, 0.42296419, 0.18198958, 0.27194644, 0.09084266])"
      ]
     },
     "execution_count": 81,
     "metadata": {},
     "output_type": "execute_result"
    }
   ],
   "source": [
    "Y"
   ]
  },
  {
   "cell_type": "code",
   "execution_count": 82,
   "metadata": {},
   "outputs": [
    {
     "data": {
      "text/plain": [
       "array([[0.        , 0.00900901, 0.39018504, 0.53290731, 0.69530277,\n",
       "        0.77424749],\n",
       "       [0.00900901, 0.        , 0.38118022, 0.52389972, 0.68630201,\n",
       "        0.76525199],\n",
       "       [0.39018504, 0.38118022, 0.        , 0.17369565, 0.33524684,\n",
       "        0.42296419],\n",
       "       [0.53290731, 0.52389972, 0.17369565, 0.        , 0.18198958,\n",
       "        0.27194644],\n",
       "       [0.69530277, 0.68630201, 0.33524684, 0.18198958, 0.        ,\n",
       "        0.09084266],\n",
       "       [0.77424749, 0.76525199, 0.42296419, 0.27194644, 0.09084266,\n",
       "        0.        ]])"
      ]
     },
     "execution_count": 82,
     "metadata": {},
     "output_type": "execute_result"
    }
   ],
   "source": [
    "spatial.distance.squareform(Y)"
   ]
  },
  {
   "cell_type": "code",
   "execution_count": null,
   "metadata": {},
   "outputs": [],
   "source": []
  },
  {
   "cell_type": "markdown",
   "metadata": {},
   "source": [
    "# yule Similarity"
   ]
  },
  {
   "cell_type": "code",
   "execution_count": 83,
   "metadata": {},
   "outputs": [],
   "source": [
    "Y = spatial.distance.pdist(df, 'yule')"
   ]
  },
  {
   "cell_type": "code",
   "execution_count": 84,
   "metadata": {},
   "outputs": [
    {
     "data": {
      "text/plain": [
       "array([nan, nan, nan, nan, nan, nan, nan, nan, nan, nan, nan, nan, nan,\n",
       "       nan, nan])"
      ]
     },
     "execution_count": 84,
     "metadata": {},
     "output_type": "execute_result"
    }
   ],
   "source": [
    "Y"
   ]
  },
  {
   "cell_type": "code",
   "execution_count": 85,
   "metadata": {},
   "outputs": [
    {
     "data": {
      "text/plain": [
       "array([[ 0., nan, nan, nan, nan, nan],\n",
       "       [nan,  0., nan, nan, nan, nan],\n",
       "       [nan, nan,  0., nan, nan, nan],\n",
       "       [nan, nan, nan,  0., nan, nan],\n",
       "       [nan, nan, nan, nan,  0., nan],\n",
       "       [nan, nan, nan, nan, nan,  0.]])"
      ]
     },
     "execution_count": 85,
     "metadata": {},
     "output_type": "execute_result"
    }
   ],
   "source": [
    "spatial.distance.squareform(Y)"
   ]
  },
  {
   "cell_type": "code",
   "execution_count": null,
   "metadata": {},
   "outputs": [],
   "source": []
  },
  {
   "cell_type": "markdown",
   "metadata": {},
   "source": [
    "### cosine Similarity"
   ]
  },
  {
   "cell_type": "code",
   "execution_count": 86,
   "metadata": {},
   "outputs": [],
   "source": [
    "Y = spatial.distance.pdist(df, 'cosine')"
   ]
  },
  {
   "cell_type": "code",
   "execution_count": 87,
   "metadata": {},
   "outputs": [
    {
     "data": {
      "text/plain": [
       "array([1.68808588e-06, 1.09453254e-02, 2.54631147e-02, 3.37429800e-02,\n",
       "       3.50205360e-02, 1.09789161e-02, 2.55148198e-02, 3.38079914e-02,\n",
       "       3.50926340e-02, 3.04536044e-03, 6.31825662e-03, 6.89251868e-03,\n",
       "       5.94997829e-04, 7.89671912e-04, 1.72766715e-05])"
      ]
     },
     "execution_count": 87,
     "metadata": {},
     "output_type": "execute_result"
    }
   ],
   "source": [
    "Y"
   ]
  },
  {
   "cell_type": "code",
   "execution_count": 88,
   "metadata": {},
   "outputs": [
    {
     "data": {
      "text/plain": [
       "array([[0.00000000e+00, 1.68808588e-06, 1.09453254e-02, 2.54631147e-02,\n",
       "        3.37429800e-02, 3.50205360e-02],\n",
       "       [1.68808588e-06, 0.00000000e+00, 1.09789161e-02, 2.55148198e-02,\n",
       "        3.38079914e-02, 3.50926340e-02],\n",
       "       [1.09453254e-02, 1.09789161e-02, 0.00000000e+00, 3.04536044e-03,\n",
       "        6.31825662e-03, 6.89251868e-03],\n",
       "       [2.54631147e-02, 2.55148198e-02, 3.04536044e-03, 0.00000000e+00,\n",
       "        5.94997829e-04, 7.89671912e-04],\n",
       "       [3.37429800e-02, 3.38079914e-02, 6.31825662e-03, 5.94997829e-04,\n",
       "        0.00000000e+00, 1.72766715e-05],\n",
       "       [3.50205360e-02, 3.50926340e-02, 6.89251868e-03, 7.89671912e-04,\n",
       "        1.72766715e-05, 0.00000000e+00]])"
      ]
     },
     "execution_count": 88,
     "metadata": {},
     "output_type": "execute_result"
    }
   ],
   "source": [
    "spatial.distance.squareform(Y)"
   ]
  },
  {
   "cell_type": "code",
   "execution_count": null,
   "metadata": {},
   "outputs": [],
   "source": []
  }
 ],
 "metadata": {
  "kernelspec": {
   "display_name": "Python 3",
   "language": "python",
   "name": "python3"
  },
  "language_info": {
   "codemirror_mode": {
    "name": "ipython",
    "version": 3
   },
   "file_extension": ".py",
   "mimetype": "text/x-python",
   "name": "python",
   "nbconvert_exporter": "python",
   "pygments_lexer": "ipython3",
   "version": "3.7.1"
  }
 },
 "nbformat": 4,
 "nbformat_minor": 2
}
