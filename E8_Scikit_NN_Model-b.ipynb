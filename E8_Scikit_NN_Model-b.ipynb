{
 "cells": [
  {
   "cell_type": "code",
   "execution_count": 1,
   "metadata": {},
   "outputs": [],
   "source": [
    "import numpy as np\n",
    "import pandas as pd\n",
    "import matplotlib.pyplot as plt\n",
    "from sklearn.model_selection import GridSearchCV\n",
    "from sklearn.model_selection import cross_val_score\n",
    "from sklearn import metrics\n",
    "\n",
    "%matplotlib inline"
   ]
  },
  {
   "cell_type": "code",
   "execution_count": 2,
   "metadata": {},
   "outputs": [],
   "source": [
    "from sklearn.neural_network import MLPClassifier\n",
    "ann_model = MLPClassifier()"
   ]
  },
  {
   "cell_type": "code",
   "execution_count": 3,
   "metadata": {},
   "outputs": [],
   "source": [
    "\n",
    "input_data = pd.read_excel('C:\\\\Users\\\\jp\\\\Desktop\\\\testData\\\\marketing_campaign.xls')"
   ]
  },
  {
   "cell_type": "code",
   "execution_count": 4,
   "metadata": {
    "scrolled": true
   },
   "outputs": [
    {
     "data": {
      "text/html": [
       "<div>\n",
       "<style scoped>\n",
       "    .dataframe tbody tr th:only-of-type {\n",
       "        vertical-align: middle;\n",
       "    }\n",
       "\n",
       "    .dataframe tbody tr th {\n",
       "        vertical-align: top;\n",
       "    }\n",
       "\n",
       "    .dataframe thead th {\n",
       "        text-align: right;\n",
       "    }\n",
       "</style>\n",
       "<table border=\"1\" class=\"dataframe\">\n",
       "  <thead>\n",
       "    <tr style=\"text-align: right;\">\n",
       "      <th></th>\n",
       "      <th>Age</th>\n",
       "      <th>Experience</th>\n",
       "      <th>Income</th>\n",
       "      <th>Family</th>\n",
       "      <th>CCAvg</th>\n",
       "      <th>Education</th>\n",
       "      <th>Mortgage</th>\n",
       "      <th>Securities Account</th>\n",
       "      <th>CD Account</th>\n",
       "      <th>Online</th>\n",
       "      <th>CreditCard</th>\n",
       "      <th>Offer_acceptance</th>\n",
       "    </tr>\n",
       "  </thead>\n",
       "  <tbody>\n",
       "    <tr>\n",
       "      <th>0</th>\n",
       "      <td>25</td>\n",
       "      <td>1</td>\n",
       "      <td>49</td>\n",
       "      <td>4</td>\n",
       "      <td>1.6</td>\n",
       "      <td>1</td>\n",
       "      <td>0</td>\n",
       "      <td>1</td>\n",
       "      <td>0</td>\n",
       "      <td>0</td>\n",
       "      <td>0</td>\n",
       "      <td>0</td>\n",
       "    </tr>\n",
       "    <tr>\n",
       "      <th>1</th>\n",
       "      <td>45</td>\n",
       "      <td>19</td>\n",
       "      <td>34</td>\n",
       "      <td>3</td>\n",
       "      <td>1.5</td>\n",
       "      <td>1</td>\n",
       "      <td>0</td>\n",
       "      <td>1</td>\n",
       "      <td>0</td>\n",
       "      <td>0</td>\n",
       "      <td>0</td>\n",
       "      <td>0</td>\n",
       "    </tr>\n",
       "    <tr>\n",
       "      <th>2</th>\n",
       "      <td>39</td>\n",
       "      <td>15</td>\n",
       "      <td>11</td>\n",
       "      <td>1</td>\n",
       "      <td>1.0</td>\n",
       "      <td>1</td>\n",
       "      <td>0</td>\n",
       "      <td>0</td>\n",
       "      <td>0</td>\n",
       "      <td>0</td>\n",
       "      <td>0</td>\n",
       "      <td>0</td>\n",
       "    </tr>\n",
       "    <tr>\n",
       "      <th>3</th>\n",
       "      <td>35</td>\n",
       "      <td>9</td>\n",
       "      <td>100</td>\n",
       "      <td>1</td>\n",
       "      <td>2.7</td>\n",
       "      <td>2</td>\n",
       "      <td>0</td>\n",
       "      <td>0</td>\n",
       "      <td>0</td>\n",
       "      <td>0</td>\n",
       "      <td>0</td>\n",
       "      <td>0</td>\n",
       "    </tr>\n",
       "    <tr>\n",
       "      <th>4</th>\n",
       "      <td>35</td>\n",
       "      <td>8</td>\n",
       "      <td>45</td>\n",
       "      <td>4</td>\n",
       "      <td>1.0</td>\n",
       "      <td>2</td>\n",
       "      <td>0</td>\n",
       "      <td>0</td>\n",
       "      <td>0</td>\n",
       "      <td>0</td>\n",
       "      <td>1</td>\n",
       "      <td>1</td>\n",
       "    </tr>\n",
       "  </tbody>\n",
       "</table>\n",
       "</div>"
      ],
      "text/plain": [
       "   Age  Experience  Income  Family  CCAvg  Education  Mortgage  \\\n",
       "0   25           1      49       4    1.6          1         0   \n",
       "1   45          19      34       3    1.5          1         0   \n",
       "2   39          15      11       1    1.0          1         0   \n",
       "3   35           9     100       1    2.7          2         0   \n",
       "4   35           8      45       4    1.0          2         0   \n",
       "\n",
       "   Securities Account  CD Account  Online  CreditCard  Offer_acceptance  \n",
       "0                   1           0       0           0                 0  \n",
       "1                   1           0       0           0                 0  \n",
       "2                   0           0       0           0                 0  \n",
       "3                   0           0       0           0                 0  \n",
       "4                   0           0       0           1                 1  "
      ]
     },
     "execution_count": 4,
     "metadata": {},
     "output_type": "execute_result"
    }
   ],
   "source": [
    "input_data.head()"
   ]
  },
  {
   "cell_type": "code",
   "execution_count": 5,
   "metadata": {},
   "outputs": [
    {
     "data": {
      "text/plain": [
       "(5000, 12)"
      ]
     },
     "execution_count": 5,
     "metadata": {},
     "output_type": "execute_result"
    }
   ],
   "source": [
    "input_data.shape"
   ]
  },
  {
   "cell_type": "code",
   "execution_count": 6,
   "metadata": {},
   "outputs": [],
   "source": [
    "# define features x and resopnse y\n",
    "x = input_data.drop(['Offer_acceptance'], axis=1)\n",
    "y = input_data['Offer_acceptance']"
   ]
  },
  {
   "cell_type": "code",
   "execution_count": 7,
   "metadata": {},
   "outputs": [
    {
     "data": {
      "text/plain": [
       "(5000, 11)"
      ]
     },
     "execution_count": 7,
     "metadata": {},
     "output_type": "execute_result"
    }
   ],
   "source": [
    "x.shape"
   ]
  },
  {
   "cell_type": "code",
   "execution_count": 8,
   "metadata": {},
   "outputs": [],
   "source": [
    "from sklearn.model_selection import train_test_split\n",
    "\n",
    "# split train and test data\n",
    "x_train, x_test, y_train, y_test = train_test_split(x, y, random_state=0 )"
   ]
  },
  {
   "cell_type": "code",
   "execution_count": 9,
   "metadata": {},
   "outputs": [],
   "source": [
    "from sklearn.neural_network import MLPClassifier"
   ]
  },
  {
   "cell_type": "code",
   "execution_count": 10,
   "metadata": {},
   "outputs": [
    {
     "data": {
      "text/plain": [
       "0.8100900270637519"
      ]
     },
     "execution_count": 10,
     "metadata": {},
     "output_type": "execute_result"
    }
   ],
   "source": [
    "ann_model = MLPClassifier()\n",
    "\n",
    "from sklearn.model_selection import cross_val_score\n",
    "\n",
    "# Cross valid Accuracy\n",
    "cross_val_score(ann_model, x_train, y_train, cv=5).mean()  # Default MODEL = 83% "
   ]
  },
  {
   "cell_type": "markdown",
   "metadata": {},
   "source": [
    "#### Apply Normalization on the input Data and re-run the model"
   ]
  },
  {
   "cell_type": "code",
   "execution_count": 11,
   "metadata": {},
   "outputs": [
    {
     "data": {
      "text/html": [
       "<div>\n",
       "<style scoped>\n",
       "    .dataframe tbody tr th:only-of-type {\n",
       "        vertical-align: middle;\n",
       "    }\n",
       "\n",
       "    .dataframe tbody tr th {\n",
       "        vertical-align: top;\n",
       "    }\n",
       "\n",
       "    .dataframe thead th {\n",
       "        text-align: right;\n",
       "    }\n",
       "</style>\n",
       "<table border=\"1\" class=\"dataframe\">\n",
       "  <thead>\n",
       "    <tr style=\"text-align: right;\">\n",
       "      <th></th>\n",
       "      <th>Age</th>\n",
       "      <th>Experience</th>\n",
       "      <th>Income</th>\n",
       "      <th>Family</th>\n",
       "      <th>CCAvg</th>\n",
       "      <th>Education</th>\n",
       "      <th>Mortgage</th>\n",
       "      <th>Securities Account</th>\n",
       "      <th>CD Account</th>\n",
       "      <th>Online</th>\n",
       "      <th>CreditCard</th>\n",
       "    </tr>\n",
       "  </thead>\n",
       "  <tbody>\n",
       "    <tr>\n",
       "      <th>0</th>\n",
       "      <td>0.452860</td>\n",
       "      <td>0.018114</td>\n",
       "      <td>0.887605</td>\n",
       "      <td>0.072458</td>\n",
       "      <td>0.028983</td>\n",
       "      <td>0.018114</td>\n",
       "      <td>0.0</td>\n",
       "      <td>0.018114</td>\n",
       "      <td>0.0</td>\n",
       "      <td>0.0</td>\n",
       "      <td>0.000000</td>\n",
       "    </tr>\n",
       "    <tr>\n",
       "      <th>1</th>\n",
       "      <td>0.754705</td>\n",
       "      <td>0.318653</td>\n",
       "      <td>0.570222</td>\n",
       "      <td>0.050314</td>\n",
       "      <td>0.025157</td>\n",
       "      <td>0.016771</td>\n",
       "      <td>0.0</td>\n",
       "      <td>0.016771</td>\n",
       "      <td>0.0</td>\n",
       "      <td>0.0</td>\n",
       "      <td>0.000000</td>\n",
       "    </tr>\n",
       "    <tr>\n",
       "      <th>2</th>\n",
       "      <td>0.901870</td>\n",
       "      <td>0.346873</td>\n",
       "      <td>0.254374</td>\n",
       "      <td>0.023125</td>\n",
       "      <td>0.023125</td>\n",
       "      <td>0.023125</td>\n",
       "      <td>0.0</td>\n",
       "      <td>0.000000</td>\n",
       "      <td>0.0</td>\n",
       "      <td>0.0</td>\n",
       "      <td>0.000000</td>\n",
       "    </tr>\n",
       "    <tr>\n",
       "      <th>3</th>\n",
       "      <td>0.328986</td>\n",
       "      <td>0.084596</td>\n",
       "      <td>0.939960</td>\n",
       "      <td>0.009400</td>\n",
       "      <td>0.025379</td>\n",
       "      <td>0.018799</td>\n",
       "      <td>0.0</td>\n",
       "      <td>0.000000</td>\n",
       "      <td>0.0</td>\n",
       "      <td>0.0</td>\n",
       "      <td>0.000000</td>\n",
       "    </tr>\n",
       "    <tr>\n",
       "      <th>4</th>\n",
       "      <td>0.605975</td>\n",
       "      <td>0.138509</td>\n",
       "      <td>0.779111</td>\n",
       "      <td>0.069254</td>\n",
       "      <td>0.017314</td>\n",
       "      <td>0.034627</td>\n",
       "      <td>0.0</td>\n",
       "      <td>0.000000</td>\n",
       "      <td>0.0</td>\n",
       "      <td>0.0</td>\n",
       "      <td>0.017314</td>\n",
       "    </tr>\n",
       "  </tbody>\n",
       "</table>\n",
       "</div>"
      ],
      "text/plain": [
       "        Age  Experience    Income    Family     CCAvg  Education  Mortgage  \\\n",
       "0  0.452860    0.018114  0.887605  0.072458  0.028983   0.018114       0.0   \n",
       "1  0.754705    0.318653  0.570222  0.050314  0.025157   0.016771       0.0   \n",
       "2  0.901870    0.346873  0.254374  0.023125  0.023125   0.023125       0.0   \n",
       "3  0.328986    0.084596  0.939960  0.009400  0.025379   0.018799       0.0   \n",
       "4  0.605975    0.138509  0.779111  0.069254  0.017314   0.034627       0.0   \n",
       "\n",
       "   Securities Account  CD Account  Online  CreditCard  \n",
       "0            0.018114         0.0     0.0    0.000000  \n",
       "1            0.016771         0.0     0.0    0.000000  \n",
       "2            0.000000         0.0     0.0    0.000000  \n",
       "3            0.000000         0.0     0.0    0.000000  \n",
       "4            0.000000         0.0     0.0    0.017314  "
      ]
     },
     "execution_count": 11,
     "metadata": {},
     "output_type": "execute_result"
    }
   ],
   "source": [
    "# Normalize the predictors\n",
    "from sklearn.preprocessing import normalize\n",
    "x_t = pd.DataFrame(normalize(x))\n",
    "x_t.columns = x.columns\n",
    "x_t.head()"
   ]
  },
  {
   "cell_type": "code",
   "execution_count": 12,
   "metadata": {},
   "outputs": [],
   "source": [
    "# split train and test data on normalized one\n",
    "x_train, x_test, y_train, y_test = train_test_split(x_t, y, random_state=3 )"
   ]
  },
  {
   "cell_type": "code",
   "execution_count": 13,
   "metadata": {},
   "outputs": [
    {
     "data": {
      "text/plain": [
       "0.8205344976613291"
      ]
     },
     "execution_count": 13,
     "metadata": {},
     "output_type": "execute_result"
    }
   ],
   "source": [
    "ann_model = MLPClassifier(max_iter=400)\n",
    "\n",
    "cross_val_score(ann_model, x_train, y_train, cv=5).mean()"
   ]
  },
  {
   "cell_type": "code",
   "execution_count": 14,
   "metadata": {},
   "outputs": [
    {
     "data": {
      "text/html": [
       "<div>\n",
       "<style scoped>\n",
       "    .dataframe tbody tr th:only-of-type {\n",
       "        vertical-align: middle;\n",
       "    }\n",
       "\n",
       "    .dataframe tbody tr th {\n",
       "        vertical-align: top;\n",
       "    }\n",
       "\n",
       "    .dataframe thead th {\n",
       "        text-align: right;\n",
       "    }\n",
       "</style>\n",
       "<table border=\"1\" class=\"dataframe\">\n",
       "  <thead>\n",
       "    <tr style=\"text-align: right;\">\n",
       "      <th></th>\n",
       "      <th>Age</th>\n",
       "      <th>Experience</th>\n",
       "      <th>Income</th>\n",
       "      <th>Family</th>\n",
       "      <th>CCAvg</th>\n",
       "      <th>Education</th>\n",
       "      <th>Mortgage</th>\n",
       "      <th>Securities Account</th>\n",
       "      <th>CD Account</th>\n",
       "      <th>Online</th>\n",
       "      <th>CreditCard</th>\n",
       "    </tr>\n",
       "  </thead>\n",
       "  <tbody>\n",
       "    <tr>\n",
       "      <th>0</th>\n",
       "      <td>-1.774417</td>\n",
       "      <td>-1.666078</td>\n",
       "      <td>-0.538229</td>\n",
       "      <td>1.397414</td>\n",
       "      <td>-0.193371</td>\n",
       "      <td>-1.049078</td>\n",
       "      <td>-0.555524</td>\n",
       "      <td>2.928915</td>\n",
       "      <td>-0.25354</td>\n",
       "      <td>-1.216618</td>\n",
       "      <td>-0.645314</td>\n",
       "    </tr>\n",
       "    <tr>\n",
       "      <th>1</th>\n",
       "      <td>-0.029524</td>\n",
       "      <td>-0.096330</td>\n",
       "      <td>-0.864109</td>\n",
       "      <td>0.525991</td>\n",
       "      <td>-0.250595</td>\n",
       "      <td>-1.049078</td>\n",
       "      <td>-0.555524</td>\n",
       "      <td>2.928915</td>\n",
       "      <td>-0.25354</td>\n",
       "      <td>-1.216618</td>\n",
       "      <td>-0.645314</td>\n",
       "    </tr>\n",
       "    <tr>\n",
       "      <th>2</th>\n",
       "      <td>-0.552992</td>\n",
       "      <td>-0.445163</td>\n",
       "      <td>-1.363793</td>\n",
       "      <td>-1.216855</td>\n",
       "      <td>-0.536720</td>\n",
       "      <td>-1.049078</td>\n",
       "      <td>-0.555524</td>\n",
       "      <td>-0.341423</td>\n",
       "      <td>-0.25354</td>\n",
       "      <td>-1.216618</td>\n",
       "      <td>-0.645314</td>\n",
       "    </tr>\n",
       "    <tr>\n",
       "      <th>3</th>\n",
       "      <td>-0.901970</td>\n",
       "      <td>-0.968413</td>\n",
       "      <td>0.569765</td>\n",
       "      <td>-1.216855</td>\n",
       "      <td>0.436103</td>\n",
       "      <td>0.141703</td>\n",
       "      <td>-0.555524</td>\n",
       "      <td>-0.341423</td>\n",
       "      <td>-0.25354</td>\n",
       "      <td>-1.216618</td>\n",
       "      <td>-0.645314</td>\n",
       "    </tr>\n",
       "    <tr>\n",
       "      <th>4</th>\n",
       "      <td>-0.901970</td>\n",
       "      <td>-1.055621</td>\n",
       "      <td>-0.625130</td>\n",
       "      <td>1.397414</td>\n",
       "      <td>-0.536720</td>\n",
       "      <td>0.141703</td>\n",
       "      <td>-0.555524</td>\n",
       "      <td>-0.341423</td>\n",
       "      <td>-0.25354</td>\n",
       "      <td>-1.216618</td>\n",
       "      <td>1.549632</td>\n",
       "    </tr>\n",
       "  </tbody>\n",
       "</table>\n",
       "</div>"
      ],
      "text/plain": [
       "        Age  Experience    Income    Family     CCAvg  Education  Mortgage  \\\n",
       "0 -1.774417   -1.666078 -0.538229  1.397414 -0.193371  -1.049078 -0.555524   \n",
       "1 -0.029524   -0.096330 -0.864109  0.525991 -0.250595  -1.049078 -0.555524   \n",
       "2 -0.552992   -0.445163 -1.363793 -1.216855 -0.536720  -1.049078 -0.555524   \n",
       "3 -0.901970   -0.968413  0.569765 -1.216855  0.436103   0.141703 -0.555524   \n",
       "4 -0.901970   -1.055621 -0.625130  1.397414 -0.536720   0.141703 -0.555524   \n",
       "\n",
       "   Securities Account  CD Account    Online  CreditCard  \n",
       "0            2.928915    -0.25354 -1.216618   -0.645314  \n",
       "1            2.928915    -0.25354 -1.216618   -0.645314  \n",
       "2           -0.341423    -0.25354 -1.216618   -0.645314  \n",
       "3           -0.341423    -0.25354 -1.216618   -0.645314  \n",
       "4           -0.341423    -0.25354 -1.216618    1.549632  "
      ]
     },
     "execution_count": 14,
     "metadata": {},
     "output_type": "execute_result"
    }
   ],
   "source": [
    "# Normalize the predictors\n",
    "from sklearn.preprocessing import scale\n",
    "x_t = pd.DataFrame(scale(x))\n",
    "x_t.columns = x.columns\n",
    "x_t.head()"
   ]
  },
  {
   "cell_type": "code",
   "execution_count": 15,
   "metadata": {},
   "outputs": [],
   "source": [
    "# split train and test data on normalized one\n",
    "x_train, x_test, y_train, y_test = train_test_split(x_t, y, random_state=3 )"
   ]
  },
  {
   "cell_type": "code",
   "execution_count": 16,
   "metadata": {},
   "outputs": [
    {
     "data": {
      "text/plain": [
       "0.8855877527485975"
      ]
     },
     "execution_count": 16,
     "metadata": {},
     "output_type": "execute_result"
    }
   ],
   "source": [
    "ann_model = MLPClassifier(max_iter=400)\n",
    "\n",
    "cross_val_score(ann_model, x_train, y_train, cv=5).mean()"
   ]
  },
  {
   "cell_type": "code",
   "execution_count": 23,
   "metadata": {},
   "outputs": [
    {
     "data": {
      "text/plain": [
       "0.7904"
      ]
     },
     "execution_count": 23,
     "metadata": {},
     "output_type": "execute_result"
    }
   ],
   "source": [
    "# Default Neural Network\n",
    "ann_model = MLPClassifier(hidden_layer_sizes=(10))\n",
    "\n",
    "ann_model.fit(x_train, y_train)\n",
    "y_pred = ann_model.predict(x_test)\n",
    "\n",
    "metrics.accuracy_score(y_pred, y_test)"
   ]
  },
  {
   "cell_type": "markdown",
   "metadata": {},
   "source": [
    "#### Neural Network Weights matrix"
   ]
  },
  {
   "cell_type": "code",
   "execution_count": 18,
   "metadata": {},
   "outputs": [
    {
     "data": {
      "text/plain": [
       "[array([[-0.44935443, -0.16438208, -0.12302782, -0.06609481, -0.31094524,\n",
       "          0.60895879,  0.26897381,  0.24328935, -0.38536389, -0.08416016],\n",
       "        [ 0.26306898, -0.20257587, -0.15774204,  0.06418827, -0.18409243,\n",
       "         -0.02216332,  0.1844362 ,  0.20050141, -0.39111446, -0.21721653],\n",
       "        [-0.03215885, -0.55546947,  1.13026726, -0.17695485,  0.74966328,\n",
       "          0.50239478, -0.10971487,  0.24898234,  0.31901728, -0.18915744],\n",
       "        [-0.68528069,  0.59140589,  0.47493822,  0.54023014,  0.18049264,\n",
       "          0.17391458, -0.56311664, -0.21246492, -0.21000143,  0.11554308],\n",
       "        [ 0.10307632, -0.18305798, -0.18823445, -0.14890085,  0.25388266,\n",
       "          0.19463727,  0.26347279, -0.53396861,  0.21226786,  0.22202943],\n",
       "        [-0.64061126,  1.23807863,  0.29726079,  0.40829702,  0.61572865,\n",
       "          0.62377803, -0.74864636, -0.30861368, -0.7092322 , -0.04821363],\n",
       "        [ 0.08806272,  0.13588879, -0.13160949, -0.27347368, -0.12581352,\n",
       "          0.16666088,  0.16978752, -0.29966714, -0.36478955, -0.07721932],\n",
       "        [-0.31954863, -0.19067234, -0.2509417 , -0.07552036, -0.07369219,\n",
       "         -0.06058221, -0.1318086 ,  0.38600434,  0.17233139,  0.02689616],\n",
       "        [-0.43855595,  0.24142972,  0.59176503, -0.29245615,  0.01514601,\n",
       "          0.01837224, -0.0427167 , -0.31305873, -0.63773717, -0.35961797],\n",
       "        [-0.37790871, -0.16296607, -0.36638053,  0.05522289, -0.14425135,\n",
       "          0.27085208,  0.43751234,  0.32549139, -0.73025299, -0.39878365],\n",
       "        [-0.19515395, -0.00143556, -0.27810498,  0.13625205, -0.30079168,\n",
       "          0.20285825,  0.40261832,  0.4004496 , -0.41973277,  0.25063843]]),\n",
       " array([[-0.5089548 ],\n",
       "        [-0.71755251],\n",
       "        [ 0.65775359],\n",
       "        [-0.63899988],\n",
       "        [ 0.7564877 ],\n",
       "        [ 0.81625302],\n",
       "        [-0.43715439],\n",
       "        [-0.38394657],\n",
       "        [-0.48761749],\n",
       "        [ 0.39088723]])]"
      ]
     },
     "execution_count": 18,
     "metadata": {},
     "output_type": "execute_result"
    }
   ],
   "source": [
    "ann_model.coefs_"
   ]
  },
  {
   "cell_type": "markdown",
   "metadata": {},
   "source": [
    "#### Neural Network Bias Merics "
   ]
  },
  {
   "cell_type": "code",
   "execution_count": 19,
   "metadata": {},
   "outputs": [
    {
     "data": {
      "text/plain": [
       "[array([-0.30991179,  0.23489109, -0.17392699,  0.31856029, -0.29791737,\n",
       "        -0.32476008,  0.55495829,  0.54728543, -0.19542421,  0.05484928]),\n",
       " array([-0.65014108])]"
      ]
     },
     "execution_count": 19,
     "metadata": {},
     "output_type": "execute_result"
    }
   ],
   "source": [
    "ann_model.intercepts_"
   ]
  },
  {
   "cell_type": "code",
   "execution_count": null,
   "metadata": {},
   "outputs": [],
   "source": [
    "# Adding more hidden layer\n",
    "ann_model = MLPClassifier(hidden_layer_sizes=(5,), max_iter=400)\n",
    "#ann_model = MLPClassifier(hidden_layer_sizes=(40, 10))\n",
    "\n",
    "ann_model.fit(x_train, y_train)\n",
    "y_pred = ann_model.predict(x_test)\n",
    "\n",
    "metrics.accuracy_score(y_pred, y_test)\n",
    "\n",
    "# hidden_layer_sizes=(10,) -  1 hidden layer with 10 hidden units.\n",
    "# hidden_layer_sizes=(10, 5) -  2 hidden layers with 10 hidden units in 1st layer and 5 hidden units in 2nd hidden layer."
   ]
  },
  {
   "cell_type": "code",
   "execution_count": null,
   "metadata": {},
   "outputs": [],
   "source": [
    "ann_model.coefs_"
   ]
  },
  {
   "cell_type": "code",
   "execution_count": null,
   "metadata": {},
   "outputs": [],
   "source": [
    "ann_model.intercepts_"
   ]
  },
  {
   "cell_type": "code",
   "execution_count": null,
   "metadata": {},
   "outputs": [],
   "source": [
    "y_test.value_counts()"
   ]
  },
  {
   "cell_type": "code",
   "execution_count": null,
   "metadata": {},
   "outputs": [],
   "source": [
    "y_pred = ann_model.predict(x_test)\n",
    "metrics.accuracy_score(y_pred, y_test)"
   ]
  },
  {
   "cell_type": "markdown",
   "metadata": {},
   "source": [
    "#### Neural Network Tuning"
   ]
  },
  {
   "cell_type": "code",
   "execution_count": null,
   "metadata": {},
   "outputs": [],
   "source": [
    "ann_model = MLPClassifier(hidden_layer_sizes=(40))  # 82%\n",
    "#ann_model = MLPClassifier(hidden_layer_sizes=(40,20))  # 82.2%\n",
    "\n",
    "cross_val_score(ann_model, x_train, y_train, cv=5).mean()\n",
    "\n",
    "# hidden_layer_sizes=(10,) -  1 hidden layer with 10 hidden units.\n",
    "# hidden_layer_sizes=(10, 5) -  2 hidden layers with 10 hidden units in 1st layer and 5 hidden units in 2nd hidden layer."
   ]
  },
  {
   "cell_type": "code",
   "execution_count": null,
   "metadata": {},
   "outputs": [],
   "source": [
    "#ann_model = MLPClassifier(hidden_layer_sizes=(40), max_iter=400)  #  88% /  old = 82%\n",
    "ann_model = MLPClassifier(hidden_layer_sizes=(60,40), max_iter=400)  # 89.2% / 83%\n",
    "\n",
    "cross_val_score(ann_model, x_train, y_train, cv=5).mean()\n",
    "\n",
    "# hidden_layer_sizes=(10,) -  1 hidden layer with 10 hidden units.\n",
    "# hidden_layer_sizes=(10, 5) -  2 hidden layers with 10 hidden units in 1st layer and 5 hidden units in 2nd hidden layer."
   ]
  },
  {
   "cell_type": "code",
   "execution_count": null,
   "metadata": {},
   "outputs": [],
   "source": []
  },
  {
   "cell_type": "code",
   "execution_count": null,
   "metadata": {},
   "outputs": [],
   "source": [
    "# Hidden Layer, Nodes, and Activation function tuning\n",
    "\n",
    "#ann_model = MLPClassifier(hidden_layer_sizes=(80,10), activation='identity')      # 86%\n",
    "ann_model = MLPClassifier(hidden_layer_sizes=(100,100,), activation='tanh')       # 88.6%\n",
    "#ann_model = MLPClassifier(hidden_layer_sizes=(50,10,50,), activation='tanh')       # 88.8%\n",
    "#ann_model = MLPClassifier(hidden_layer_sizes=(50,10,50,), activation='logistic')  # 88.4%\n",
    "\n",
    "ann_model = MLPClassifier(hidden_layer_sizes=(100,10,50), activation='relu')        # 89.17%\n",
    "\n",
    "# Cross valid Accuracy\n",
    "cross_val_score(ann_model, x_train, y_train, cv=5).mean()\n"
   ]
  },
  {
   "cell_type": "code",
   "execution_count": null,
   "metadata": {},
   "outputs": [],
   "source": [
    "# Solver - {‘lbfgs’, ‘sgd’, ‘adam’}, default ‘adam’  - Optimizer for weight optimization\n",
    "\n",
    "# ‘lbfgs’ is an optimizer in the family of quasi-Newton methods.\n",
    "# ‘sgd’ refers to stochastic gradient descent.\n",
    "# ‘adam’ refers to a stochastic gradient-based optimizer proposed by Kingma, Diederik, and Jimmy Ba\n",
    "\n",
    "# For smaller data, adam works well, for larger data sgd works\n",
    "\n",
    "#ann_model = MLPClassifier(hidden_layer_sizes=(100,10,50), activation='relu', solver='adam')        # 88.8%\n",
    "ann_model = MLPClassifier(hidden_layer_sizes=(100,10,50), activation='relu',\n",
    "                                                        solver='sgd', max_iter=400)               # 88.17%\n",
    "\n",
    "# Cross valid Accuracy\n",
    "cross_val_score(ann_model, x_train, y_train, cv=5).mean()\n"
   ]
  },
  {
   "cell_type": "code",
   "execution_count": null,
   "metadata": {},
   "outputs": [],
   "source": [
    "# Alpha Value Regularization Tuning (L2 penalty parameter,  default = .0001)\n",
    "\n",
    "ann_model = MLPClassifier(hidden_layer_sizes=(100,10,50), activation='relu', alpha=.001)        # 88.17%\n",
    "ann_model = MLPClassifier(hidden_layer_sizes=(100,10,50), activation='relu', alpha=11)        # 82.17%\n",
    "# Cross valid Accuracy\n",
    "cross_val_score(ann_model, x_train, y_train, cv=5).mean()\n"
   ]
  },
  {
   "cell_type": "code",
   "execution_count": null,
   "metadata": {},
   "outputs": [],
   "source": [
    "# Learning_rate - Learning rate schedule for weight updates. ( only used by sgd solver), default = 0.001\n",
    "# (1) - ‘invscaling’ gradually decreases the learning rate learning_rate_ :\n",
    "#         effective_learning_rate = learning_rate_init / pow(t, power_t)\n",
    "# (2) - ‘adaptive’ keeps the learning rate constant to ‘learning_rate_init’ as long as training loss keeps decreasing.\n",
    "#     - Each time two consecutive epochs fail to decrease training loss by at least tol, the current learning rate is divided by 5\n",
    "\n",
    "ann_model = MLPClassifier(hidden_layer_sizes=(100,10,50), activation='relu', learning_rate ='invscaling', solver='sgd',  max_iter=400 )        # 88.64%\n",
    "#ann_model = MLPClassifier(hidden_layer_sizes=(100,10,50), activation='relu', learning_rate ='adaptive', solver='sgd',  max_iter=400)           # 88.8%\n",
    "# Cross valid Accuracy\n",
    "cross_val_score(ann_model, x_train, y_train, cv=5).mean()\n"
   ]
  },
  {
   "cell_type": "code",
   "execution_count": 24,
   "metadata": {},
   "outputs": [
    {
     "data": {
      "text/plain": [
       "0.8874697116498578"
      ]
     },
     "execution_count": 24,
     "metadata": {},
     "output_type": "execute_result"
    }
   ],
   "source": [
    "# batch_size - Size of minibatches for stochastic optimizers.. default ‘auto’\n",
    "#             - When set to “auto”, batch_size=min(200, n_samples)\n",
    "#             -  If the solver is ‘lbfgs’, the classifier will not use minibatch.\n",
    "\n",
    "ann_model = MLPClassifier(hidden_layer_sizes=(100,10,50), activation='relu', batch_size=400 )        # 88.64%\n",
    "\n",
    "# Cross valid Accuracy\n",
    "cross_val_score(ann_model, x_train, y_train, cv=5).mean()\n"
   ]
  },
  {
   "cell_type": "markdown",
   "metadata": {},
   "source": [
    "#### Grid Search Tuning"
   ]
  },
  {
   "cell_type": "code",
   "execution_count": null,
   "metadata": {},
   "outputs": [],
   "source": [
    "# ANN Model tuning Gridsearch\n",
    "ann_model = MLPClassifier()\n",
    "\n",
    "param_grid = { \"hidden_layer_sizes\" :[ (60,10), (100, 60, 40), ],\n",
    "                \"activation\"        : ['relu', 'logistic', 'tanh', 'identity'],\n",
    "                \"max_iter\"          :[400]\n",
    "                }\n",
    "\n",
    "optimized_ann = GridSearchCV(ann_model, param_grid, scoring='accuracy', cv=5 , return_train_score=True)\n",
    "optimized_ann.fit(x_train, y_train)"
   ]
  },
  {
   "cell_type": "code",
   "execution_count": null,
   "metadata": {},
   "outputs": [],
   "source": [
    "optimized_ann.grid_scores_"
   ]
  },
  {
   "cell_type": "code",
   "execution_count": null,
   "metadata": {},
   "outputs": [],
   "source": [
    "optimized_ann.best_score_"
   ]
  },
  {
   "cell_type": "code",
   "execution_count": null,
   "metadata": {},
   "outputs": [],
   "source": [
    "optimized_ann.best_params_"
   ]
  },
  {
   "cell_type": "code",
   "execution_count": null,
   "metadata": {},
   "outputs": [],
   "source": [
    "optimized_ann.best_estimator_"
   ]
  },
  {
   "cell_type": "code",
   "execution_count": null,
   "metadata": {},
   "outputs": [],
   "source": [
    "final_ANN = optimized_ann.best_estimator_"
   ]
  },
  {
   "cell_type": "code",
   "execution_count": null,
   "metadata": {},
   "outputs": [],
   "source": [
    "final_ANN"
   ]
  },
  {
   "cell_type": "code",
   "execution_count": null,
   "metadata": {},
   "outputs": [],
   "source": [
    "#final_ANN.fit(x_train, y_train)"
   ]
  },
  {
   "cell_type": "code",
   "execution_count": null,
   "metadata": {},
   "outputs": [],
   "source": [
    "y_pred = final_ANN.predict(x_test)"
   ]
  },
  {
   "cell_type": "code",
   "execution_count": null,
   "metadata": {},
   "outputs": [],
   "source": [
    "metrics.accuracy_score(y_pred, y_test)"
   ]
  },
  {
   "cell_type": "code",
   "execution_count": null,
   "metadata": {},
   "outputs": [],
   "source": [
    "# comparision of actual vs predicted\n",
    "comp_df = pd.DataFrame()\n",
    "\n",
    "comp_df['Actual'] = y_test\n",
    "comp_df['Predicted'] = y_pred\n",
    "\n",
    "comp_df.head(15)\n"
   ]
  },
  {
   "cell_type": "code",
   "execution_count": null,
   "metadata": {},
   "outputs": [],
   "source": [
    "# praportion of response class in test data\n",
    "y_test.value_counts()"
   ]
  },
  {
   "cell_type": "markdown",
   "metadata": {
    "collapsed": true
   },
   "source": [
    "- classification accuracy is the easiest way to understand the classification accuracy\n",
    "- but it does not tell the complete details about classification erros\n",
    "\n",
    "##### Confusion Metrics : describe the performance of the Model"
   ]
  },
  {
   "cell_type": "code",
   "execution_count": null,
   "metadata": {},
   "outputs": [],
   "source": [
    "print(metrics.confusion_matrix( y_test, y_pred))"
   ]
  },
  {
   "cell_type": "markdown",
   "metadata": {},
   "source": [
    "- Basic terminology\n",
    "    - True Positives (TP): correctly predicted that they do have diabetes\n",
    "    - True Negatives (TN): correctly predicted that they don't have diabetes\n",
    "    - False Positives (FP): incorrectly predicted that they do have diabetes (a \"Type I error\")\n",
    "    - False Negatives (FN): incorrectly predicted that they don't have diabetes (a \"Type II error\")"
   ]
  },
  {
   "cell_type": "code",
   "execution_count": null,
   "metadata": {},
   "outputs": [],
   "source": [
    "# save confusion matrix \n",
    "confusion = metrics.confusion_matrix(y_test, y_pred)\n",
    "TN = confusion[0, 0]\n",
    "FP = confusion[0, 1]\n",
    "FN = confusion[1, 0]\n",
    "TP = confusion[1, 1]\n",
    "\n",
    "print(\"TN - \", TN)\n",
    "print(\"FP - \", FP)\n",
    "print(\"FN - \", FN)\n",
    "print(\"TP - \", TP)"
   ]
  },
  {
   "cell_type": "code",
   "execution_count": null,
   "metadata": {},
   "outputs": [],
   "source": [
    "# Classification Accuracy : \n",
    "\n",
    "print((TP + TN) / float(TP + TN + FP + FN))\n",
    "print(metrics.accuracy_score(y_test, y_pred))"
   ]
  },
  {
   "cell_type": "code",
   "execution_count": null,
   "metadata": {},
   "outputs": [],
   "source": [
    "# Sensitivity(True positive Rate) : when the actual value is positive, how often the prediction correct \n",
    "# Sensitivity = TP / (TP + FN)\n",
    "\n",
    "print(TP / (TP + FN))\n",
    "print(metrics.recall_score(y_test, y_pred))"
   ]
  },
  {
   "cell_type": "code",
   "execution_count": null,
   "metadata": {},
   "outputs": [],
   "source": [
    "# Precision: When a positive value is predicted, how often is the prediction correct\n",
    "#    How precise is the classifier when predicting positive instances\n",
    "\n",
    "print(TP / (TP + FP))\n",
    "print(metrics.precision_score(y_test, y_pred))"
   ]
  },
  {
   "cell_type": "code",
   "execution_count": null,
   "metadata": {},
   "outputs": [],
   "source": [
    "# False Positive Rate : when actual value is negative, how often the prediction incorrect\n",
    "print(FP/(FP + TN))"
   ]
  },
  {
   "cell_type": "code",
   "execution_count": null,
   "metadata": {},
   "outputs": [],
   "source": [
    "# Specificity( 1 - FPR)  : when the actual value is negative, how often the prediction correct \n",
    "print( TN/ (TN + FP) )"
   ]
  }
 ],
 "metadata": {
  "kernelspec": {
   "display_name": "Python 3",
   "language": "python",
   "name": "python3"
  },
  "language_info": {
   "codemirror_mode": {
    "name": "ipython",
    "version": 3
   },
   "file_extension": ".py",
   "mimetype": "text/x-python",
   "name": "python",
   "nbconvert_exporter": "python",
   "pygments_lexer": "ipython3",
   "version": "3.7.1"
  }
 },
 "nbformat": 4,
 "nbformat_minor": 2
}
